{
 "cells": [
  {
   "cell_type": "markdown",
   "metadata": {},
   "source": [
    "# Aspire"
   ]
  },
  {
   "cell_type": "markdown",
   "metadata": {},
   "source": [
    "## Mexican Standoff"
   ]
  },
  {
   "cell_type": "code",
   "execution_count": 3,
   "metadata": {},
   "outputs": [],
   "source": [
    "import numpy"
   ]
  },
  {
   "cell_type": "code",
   "execution_count": 4,
   "metadata": {},
   "outputs": [],
   "source": [
    "a = .1 #worst\n",
    "b = .6 #middle\n",
    "c = .95 #best"
   ]
  },
  {
   "cell_type": "code",
   "execution_count": 5,
   "metadata": {},
   "outputs": [],
   "source": [
    "states = ['abc', 'ab', 'ac', 'bc', 'a', 'b', 'c', 'all dead']\n",
    "\n",
    "transtition_abc = [(1-a)*(1-b)*(1-c), (1-c)*(1-(1-a)*(1-b)), c*(1-a)*(1-b), 0, (c)*(1-(1-a)*(1-b)), 0, 0, 0]\n",
    "transition_ab = [0, (1-a)*(1-b), 0, 0, (1-b)*a, b*(1-a), 0, b*a]\n",
    "transition_ac = [0, 0, (1-b)*(1-a), 0, (1-c)*(a), 0, (c)*(1-a),c*a]\n",
    "transition_bc = [0,0,0, (1-b)*(1-c), 0, b*(1-c), (1-b)*c, b*c]\n",
    "transition_a = [0,0,0,0,1,0,0,0]\n",
    "transition_b = [0,0,0,0,0,1,0,0]\n",
    "transition_c = [0,0,0,0,0,0,1,0]\n",
    "transition_dead = [0,0,0,0,0,0,0,1]\n",
    "\n",
    "transition_matrix = numpy.array([transtition_abc, transition_ab, transition_ac, transition_bc,\n",
    "                     transition_a, transition_b, transition_c, transition_dead])\n",
    "\n",
    "result = numpy.linalg.matrix_power(transition_matrix, 20)\n"
   ]
  },
  {
   "cell_type": "code",
   "execution_count": 6,
   "metadata": {},
   "outputs": [
    {
     "name": "stdout",
     "output_type": "stream",
     "text": [
      "[0.62390211 0.02749491 0.4652654 ]\n"
     ]
    }
   ],
   "source": [
    "print(result[0][4:7])"
   ]
  },
  {
   "cell_type": "markdown",
   "metadata": {},
   "source": [
    "## Talmud"
   ]
  },
  {
   "cell_type": "code",
   "execution_count": null,
   "metadata": {},
   "outputs": [],
   "source": [
    "import random\n",
    "from tqdm import tqdm_notebook as tqdm\n",
    "\n",
    "def prob_acquitted(n, p):\n",
    "    num_trials = 1000000\n",
    "    results = []\n",
    "    for trial in tqdm(range(num_trials)):\n",
    "        count = 0\n",
    "        for person in range(n):\n",
    "            a = random.random()\n",
    "            if a<p:\n",
    "                count +=1\n",
    "            \n",
    "        if count<n and count>n/2:\n",
    "            results.append(1)\n",
    "    prob = sum(results)/num_trials\n",
    "    return prob"
   ]
  },
  {
   "cell_type": "code",
   "execution_count": null,
   "metadata": {},
   "outputs": [],
   "source": [
    "jury_size = 3\n",
    "innocence_probability = 2/3\n",
    "\n",
    "print(prob_acquitted(jury_size, innocence_probability))"
   ]
  },
  {
   "cell_type": "code",
   "execution_count": null,
   "metadata": {},
   "outputs": [],
   "source": []
  }
 ],
 "metadata": {
  "kernelspec": {
   "display_name": "Python 3",
   "language": "python",
   "name": "python3"
  },
  "language_info": {
   "codemirror_mode": {
    "name": "ipython",
    "version": 3
   },
   "file_extension": ".py",
   "mimetype": "text/x-python",
   "name": "python",
   "nbconvert_exporter": "python",
   "pygments_lexer": "ipython3",
   "version": "3.7.2"
  }
 },
 "nbformat": 4,
 "nbformat_minor": 2
}
